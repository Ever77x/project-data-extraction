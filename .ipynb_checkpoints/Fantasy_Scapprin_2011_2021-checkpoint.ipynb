{
 "cells": [
  {
   "cell_type": "markdown",
   "id": "deb56888-7762-4545-927f-ee6eca066f46",
   "metadata": {},
   "source": [
    "# SCREAPEANDO DATA NFL FANTASY 2011 A 2021 "
   ]
  },
  {
   "cell_type": "code",
   "execution_count": 1,
   "id": "94314542-9962-4a7a-97f8-d4c117de8930",
   "metadata": {},
   "outputs": [],
   "source": [
    "import requests\n",
    "from bs4 import BeautifulSoup\n",
    "import pandas as pd"
   ]
  },
  {
   "cell_type": "markdown",
   "id": "44b5b468-0b7b-44cb-ab36-1bb51563714f",
   "metadata": {},
   "source": [
    "## STATS QB 2011 A 2021"
   ]
  },
  {
   "cell_type": "code",
   "execution_count": 19,
   "id": "d30b67de-aa2f-456a-a05c-575a07cd5b30",
   "metadata": {},
   "outputs": [],
   "source": [
    "request_2011_QB = pd.read_html(\"https://www.fantasypros.com/nfl/stats/qb.php?year=2011&scoring=PPR&range=full\")\n",
    "df_qb_2011 = request_2011_QB[0]\n",
    "df_qb_2011.to_csv('QB_data_2011.csv')"
   ]
  },
  {
   "cell_type": "code",
   "execution_count": 20,
   "id": "efa791d1-eb5d-450e-ae2f-8e464d95f1db",
   "metadata": {},
   "outputs": [],
   "source": [
    "request_2012_QB = pd.read_html(\"https://www.fantasypros.com/nfl/stats/qb.php?year=2012&scoring=PPR&range=full\")\n",
    "df_qb_2012 = request_2012_QB[0]\n",
    "df_qb_2012.to_csv('QB_data_2012.csv')"
   ]
  },
  {
   "cell_type": "code",
   "execution_count": 21,
   "id": "6debbaba-9372-4887-acf3-9b4b485ebe7d",
   "metadata": {},
   "outputs": [],
   "source": [
    "request_2013_QB = pd.read_html(\"https://www.fantasypros.com/nfl/stats/qb.php?year=2013&scoring=PPR&range=full\")\n",
    "df_qb_2013 = request_2013_QB[0]\n",
    "df_qb_2013.to_csv('QB_data_2013.csv')"
   ]
  },
  {
   "cell_type": "code",
   "execution_count": 22,
   "id": "b747662d-2c98-4e24-bbd0-627311580acd",
   "metadata": {},
   "outputs": [],
   "source": [
    "request_2014_QB = pd.read_html(\"https://www.fantasypros.com/nfl/stats/qb.php?year=2014&scoring=PPR&range=full\")\n",
    "df_qb_2014 = request_2014_QB[0]\n",
    "df_qb_2014.to_csv('QB_data_2014.csv')"
   ]
  },
  {
   "cell_type": "code",
   "execution_count": 23,
   "id": "e672477e-4799-4c93-9f93-d805f9405c4f",
   "metadata": {},
   "outputs": [],
   "source": [
    "request_2015_QB = pd.read_html(\"https://www.fantasypros.com/nfl/stats/qb.php?year=2015&scoring=PPR&range=full\")\n",
    "df_qb_2015 = request_2015_QB[0]\n",
    "df_qb_2015.to_csv('QB_data_2015.csv')"
   ]
  },
  {
   "cell_type": "code",
   "execution_count": 24,
   "id": "ebe6d4ea-9422-4fbe-9e0c-3df10834abec",
   "metadata": {},
   "outputs": [],
   "source": [
    "request_2016_QB = pd.read_html(\"https://www.fantasypros.com/nfl/stats/qb.php?year=2016&scoring=PPR&range=full\")\n",
    "df_qb_2016 = request_2016_QB[0]\n",
    "df_qb_2016.to_csv('QB_data_2016.csv')"
   ]
  },
  {
   "cell_type": "code",
   "execution_count": 29,
   "id": "e1e8c9fd-eb8d-4fae-a386-67290e04aeaa",
   "metadata": {},
   "outputs": [],
   "source": [
    "request_2017_QB = pd.read_html(\"https://www.fantasypros.com/nfl/stats/qb.php?year=2017&scoring=PPR&range=full\")\n",
    "df_qb_2017 = request_2017_QB[0]\n",
    "df_qb_2017.to_csv('QB_data_2017.csv')"
   ]
  },
  {
   "cell_type": "code",
   "execution_count": 30,
   "id": "3a18d4cc-9d00-4c12-80c2-8d9e3a39cb6a",
   "metadata": {},
   "outputs": [],
   "source": [
    "request_2018_QB = pd.read_html(\"https://www.fantasypros.com/nfl/stats/qb.php?year=2018&scoring=PPR&range=full\")\n",
    "df_qb_2018 = request_2018_QB[0]\n",
    "df_qb_2018.to_csv('QB_data_2018.csv')"
   ]
  },
  {
   "cell_type": "code",
   "execution_count": 31,
   "id": "ecb35194-7cb4-4772-90fb-63fb69e9f4b6",
   "metadata": {},
   "outputs": [],
   "source": [
    "request_2019_QB = pd.read_html(\"https://www.fantasypros.com/nfl/stats/qb.php?year=2019&scoring=PPR&range=full\")\n",
    "df_qb_2019 = request_2019_QB[0]\n",
    "df_qb_2019.to_csv('QB_data_2019.csv')"
   ]
  },
  {
   "cell_type": "code",
   "execution_count": 32,
   "id": "dcf4e6e6-6062-4c34-9d03-47fe8c1a1b7f",
   "metadata": {},
   "outputs": [],
   "source": [
    "request_2020_QB = pd.read_html(\"https://www.fantasypros.com/nfl/stats/qb.php?year=2020&scoring=PPR&range=full\")\n",
    "df_qb_2020 = request_2020_QB[0]\n",
    "df_qb_2020.to_csv('QB_data_2020.csv')"
   ]
  },
  {
   "cell_type": "code",
   "execution_count": 33,
   "id": "8d8d03d1-5906-4692-b39c-6a83b9d21f2a",
   "metadata": {},
   "outputs": [],
   "source": [
    "request_2021_QB = pd.read_html(\"https://www.fantasypros.com/nfl/stats/qb.php?year=2021&scoring=PPR&range=full\")\n",
    "df_qb_2021 = request_2021_QB[0]\n",
    "df_qb_2021.to_csv('QB_data_2020.csv')"
   ]
  },
  {
   "cell_type": "markdown",
   "id": "f40d7e6f-e12b-485d-a6be-d06351da4481",
   "metadata": {},
   "source": [
    "## STATS RB 2011 A 2021"
   ]
  },
  {
   "cell_type": "code",
   "execution_count": 35,
   "id": "f7dba0a1-130d-45c0-b995-acd9c73a9beb",
   "metadata": {},
   "outputs": [],
   "source": [
    "request_2011_RB = pd.read_html(\"https://www.fantasypros.com/nfl/stats/rb.php?year=2011&scoring=PPR&range=full\")\n",
    "df_RB_2011 = request_2011_RB[0]\n",
    "df_RB_2011.to_csv('RB_data_2011.csv')"
   ]
  },
  {
   "cell_type": "code",
   "execution_count": 40,
   "id": "b5622e33-a43c-4a9f-8c22-1c588b1c02e7",
   "metadata": {},
   "outputs": [],
   "source": [
    "request_2012_RB = pd.read_html(\"https://www.fantasypros.com/nfl/stats/rb.php?year=2012&scoring=PPR&range=full\")\n",
    "df_RB_2012 = request_2012_RB[0]\n",
    "df_RB_2012.to_csv('RB_data_2012.csv')"
   ]
  },
  {
   "cell_type": "code",
   "execution_count": 41,
   "id": "177f4ed5-46e8-4e3c-a448-e3a9dc79a899",
   "metadata": {},
   "outputs": [],
   "source": [
    "request_2013_RB = pd.read_html(\"https://www.fantasypros.com/nfl/stats/rb.php?year=2013&scoring=PPR&range=full\")\n",
    "df_RB_2013 = request_2013_RB[0]\n",
    "df_RB_2013.to_csv('RB_data_2013.csv')"
   ]
  },
  {
   "cell_type": "code",
   "execution_count": 43,
   "id": "e71369a5-6cf7-458f-a3ec-bee99da067fa",
   "metadata": {},
   "outputs": [],
   "source": [
    "request_2014_RB = pd.read_html(\"https://www.fantasypros.com/nfl/stats/rb.php?year=2014&scoring=PPR&range=full\")\n",
    "df_RB_2014 = request_2014_RB[0]\n",
    "df_RB_2014.to_csv('RB_data_2014.csv')"
   ]
  },
  {
   "cell_type": "code",
   "execution_count": 44,
   "id": "a4e31b85-4516-49fa-a0f1-b8aaef806eae",
   "metadata": {},
   "outputs": [],
   "source": [
    "request_2015_RB = pd.read_html(\"https://www.fantasypros.com/nfl/stats/rb.php?year=2015&scoring=PPR&range=full\")\n",
    "df_RB_2015 = request_2015_RB[0]\n",
    "df_RB_2015.to_csv('RB_data_2015.csv')"
   ]
  },
  {
   "cell_type": "code",
   "execution_count": 45,
   "id": "e0f5dc3a-7137-4d65-93eb-df31b8e0f7ee",
   "metadata": {},
   "outputs": [],
   "source": [
    "request_2016_RB = pd.read_html(\"https://www.fantasypros.com/nfl/stats/rb.php?year=2016&scoring=PPR&range=full\")\n",
    "df_RB_2016 = request_2016_RB[0]\n",
    "df_RB_2016.to_csv('RB_data_2016.csv')"
   ]
  },
  {
   "cell_type": "code",
   "execution_count": 46,
   "id": "f619347d-f5e6-4810-b3aa-e8d3e6a2e19e",
   "metadata": {},
   "outputs": [],
   "source": [
    "request_2017_RB = pd.read_html(\"https://www.fantasypros.com/nfl/stats/rb.php?year=2017&scoring=PPR&range=full\")\n",
    "df_RB_2017 = request_2017_RB[0]\n",
    "df_RB_2017.to_csv('RB_data_2017.csv')"
   ]
  },
  {
   "cell_type": "code",
   "execution_count": 47,
   "id": "cb8df0d2-da96-45e9-8dae-04fcea9898e5",
   "metadata": {},
   "outputs": [],
   "source": [
    "request_2018_RB = pd.read_html(\"https://www.fantasypros.com/nfl/stats/rb.php?year=2018&scoring=PPR&range=full\")\n",
    "df_RB_2018 = request_2018_RB[0]\n",
    "df_RB_2018.to_csv('RB_data_2018.csv')"
   ]
  },
  {
   "cell_type": "code",
   "execution_count": 54,
   "id": "6c601358-a892-4747-af63-994b2d916387",
   "metadata": {},
   "outputs": [],
   "source": [
    "request_2019_RB = pd.read_html(\"https://www.fantasypros.com/nfl/stats/rb.php?year=2019&scoring=PPR&range=full\")\n",
    "df_RB_2019 = request_2019_RB[0]\n",
    "df_RB_2019.to_csv('RB_data_2019.csv')"
   ]
  },
  {
   "cell_type": "code",
   "execution_count": 55,
   "id": "02c91b04-5827-45e3-b26b-a8a3b9dbc8a6",
   "metadata": {},
   "outputs": [],
   "source": [
    "request_2020_RB = pd.read_html(\"https://www.fantasypros.com/nfl/stats/rb.php?year=2020&scoring=PPR&range=full\")\n",
    "df_RB_2020 = request_2020_RB[0]\n",
    "df_RB_2020.to_csv('RB_data_2020.csv')"
   ]
  },
  {
   "cell_type": "code",
   "execution_count": 56,
   "id": "5bfc12c8-d4d7-41d9-81f1-60d6fe741413",
   "metadata": {},
   "outputs": [],
   "source": [
    "request_2021_RB = pd.read_html(\"https://www.fantasypros.com/nfl/stats/rb.php?year=2021&scoring=PPR&range=full\")\n",
    "df_RB_2021 = request_2021_RB[0]\n",
    "df_RB_2021.to_csv('RB_data_2021.csv')"
   ]
  },
  {
   "cell_type": "markdown",
   "id": "a778f551-fa5b-406e-859f-0c580b253646",
   "metadata": {},
   "source": [
    "## STATS WR 2011 A 2021"
   ]
  },
  {
   "cell_type": "code",
   "execution_count": 58,
   "id": "733c9a4b-a269-407e-8199-41f5d4663dad",
   "metadata": {},
   "outputs": [],
   "source": [
    "request_2011_WR = pd.read_html(\"https://www.fantasypros.com/nfl/stats/wr.php?year=2011&scoring=PPR&range=full\")\n",
    "df_WR_2011 = request_2011_WR[0]\n",
    "df_WR_2011.to_csv('WR_data_2011.csv')"
   ]
  },
  {
   "cell_type": "code",
   "execution_count": 59,
   "id": "0812453f-6ea7-4716-96f2-48b4d4b65a3f",
   "metadata": {},
   "outputs": [],
   "source": [
    "request_2012_WR = pd.read_html(\"https://www.fantasypros.com/nfl/stats/wr.php?year=2012&scoring=PPR&range=full\")\n",
    "df_WR_2012 = request_2012_WR[0]\n",
    "df_WR_2012.to_csv('WR_data_2012.csv')"
   ]
  },
  {
   "cell_type": "code",
   "execution_count": 60,
   "id": "0ac4cefe-e603-469a-bcca-bbe5c6d0600b",
   "metadata": {},
   "outputs": [],
   "source": [
    "request_2013_WR = pd.read_html(\"https://www.fantasypros.com/nfl/stats/wr.php?year=2013&scoring=PPR&range=full\")\n",
    "df_WR_2013 = request_2013_WR[0]\n",
    "df_WR_2013.to_csv('WR_data_2013.csv')"
   ]
  },
  {
   "cell_type": "code",
   "execution_count": 61,
   "id": "f46e60b0-42c0-4017-8a1d-da661b571c79",
   "metadata": {},
   "outputs": [],
   "source": [
    "request_2014_WR = pd.read_html(\"https://www.fantasypros.com/nfl/stats/wr.php?year=2014&scoring=PPR&range=full\")\n",
    "df_WR_2014 = request_2014_WR[0]\n",
    "df_WR_2014.to_csv('WR_data_2014.csv')"
   ]
  },
  {
   "cell_type": "code",
   "execution_count": 62,
   "id": "575f48b1-5b07-43da-9644-ad6c5d3a40a3",
   "metadata": {},
   "outputs": [],
   "source": [
    "request_2015_WR = pd.read_html(\"https://www.fantasypros.com/nfl/stats/wr.php?year=2015&scoring=PPR&range=full\")\n",
    "df_WR_2015 = request_2015_WR[0]\n",
    "df_WR_2015.to_csv('WR_data_2015.csv')"
   ]
  },
  {
   "cell_type": "code",
   "execution_count": 63,
   "id": "b5b02a75-ec16-4e32-bdd2-15bd7da0ad90",
   "metadata": {},
   "outputs": [],
   "source": [
    "request_2016_WR = pd.read_html(\"https://www.fantasypros.com/nfl/stats/wr.php?year=2016&scoring=PPR&range=full\")\n",
    "df_WR_2016 = request_2016_WR[0]\n",
    "df_WR_2016.to_csv('WR_data_2016.csv')"
   ]
  },
  {
   "cell_type": "code",
   "execution_count": 64,
   "id": "135eb5bf-ee83-4adf-af55-e584ad7a33cd",
   "metadata": {},
   "outputs": [],
   "source": [
    "request_2017_WR = pd.read_html(\"https://www.fantasypros.com/nfl/stats/wr.php?year=2017&scoring=PPR&range=full\")\n",
    "df_WR_2017 = request_2017_WR[0]\n",
    "df_WR_2017.to_csv('WR_data_2017.csv')"
   ]
  },
  {
   "cell_type": "code",
   "execution_count": 65,
   "id": "39e84963-99c4-4b88-be5f-9c8b4d80d11f",
   "metadata": {},
   "outputs": [],
   "source": [
    "request_2018_WR = pd.read_html(\"https://www.fantasypros.com/nfl/stats/wr.php?year=2018&scoring=PPR&range=full\")\n",
    "df_WR_2018 = request_2018_WR[0]\n",
    "df_WR_2018.to_csv('WR_data_2018.csv')"
   ]
  },
  {
   "cell_type": "code",
   "execution_count": 66,
   "id": "72ee0a97-ff9b-47b1-ba2f-d74ad89a3cf3",
   "metadata": {},
   "outputs": [],
   "source": [
    "request_2019_WR = pd.read_html(\"https://www.fantasypros.com/nfl/stats/wr.php?year=2019&scoring=PPR&range=full\")\n",
    "df_WR_2019 = request_2019_WR[0]\n",
    "df_WR_2019.to_csv('WR_data_2019.csv')"
   ]
  },
  {
   "cell_type": "code",
   "execution_count": 67,
   "id": "d0541dd0-a74a-406d-beb1-bc454c1805f5",
   "metadata": {},
   "outputs": [],
   "source": [
    "request_2020_WR = pd.read_html(\"https://www.fantasypros.com/nfl/stats/wr.php?year=2020&scoring=PPR&range=full\")\n",
    "df_WR_2020 = request_2020_WR[0]\n",
    "df_WR_2020.to_csv('WR_data_2020.csv')"
   ]
  },
  {
   "cell_type": "code",
   "execution_count": 68,
   "id": "36d330e5-5feb-4afb-93ed-73bf09cbbe8e",
   "metadata": {},
   "outputs": [],
   "source": [
    "request_2021_WR = pd.read_html(\"https://www.fantasypros.com/nfl/stats/wr.php?year=2021&scoring=PPR&range=full\")\n",
    "df_WR_2021 = request_2021_WR[0]\n",
    "df_WR_2021.to_csv('WR_data_2021.csv')"
   ]
  },
  {
   "cell_type": "markdown",
   "id": "b74cfd09-5fb8-4e8c-a6d7-cac0e3c5e9c4",
   "metadata": {},
   "source": [
    "## STATS TE 2011 A 2021\n"
   ]
  },
  {
   "cell_type": "code",
   "execution_count": 70,
   "id": "aad6c3b7-8e9c-4034-a56f-e966d32d0cf0",
   "metadata": {},
   "outputs": [],
   "source": [
    "request_2011_TE = pd.read_html(\"https://www.fantasypros.com/nfl/stats/te.php?year=2011&scoring=PPR&range=full\")\n",
    "df_TE_2011 = request_2011_TE[0]\n",
    "df_TE_2011.to_csv('TE_data_2011.csv')"
   ]
  },
  {
   "cell_type": "code",
   "execution_count": 73,
   "id": "3db76edc-0d51-4209-8f08-4eca998a6ded",
   "metadata": {},
   "outputs": [],
   "source": [
    "request_2012_TE = pd.read_html(\"https://www.fantasypros.com/nfl/stats/te.php?year=2012&scoring=PPR&range=full\")\n",
    "df_TE_2012 = request_2012_TE[0]\n",
    "df_TE_2012.to_csv('TE_data_2012.csv')"
   ]
  },
  {
   "cell_type": "code",
   "execution_count": 74,
   "id": "321fc705-8555-4229-b7e3-8e42ee43e978",
   "metadata": {},
   "outputs": [],
   "source": [
    "request_2013_TE = pd.read_html(\"https://www.fantasypros.com/nfl/stats/te.php?year=2013&scoring=PPR&range=full\")\n",
    "df_TE_2013 = request_2013_TE[0]\n",
    "df_TE_2013.to_csv('TE_data_2013.csv')"
   ]
  },
  {
   "cell_type": "code",
   "execution_count": 75,
   "id": "984dd137-442c-4a85-afb7-c55eaa38cb47",
   "metadata": {},
   "outputs": [],
   "source": [
    "request_2014_TE = pd.read_html(\"https://www.fantasypros.com/nfl/stats/te.php?year=2014&scoring=PPR&range=full\")\n",
    "df_TE_2014 = request_2014_TE[0]\n",
    "df_TE_2014.to_csv('TE_data_2014.csv')"
   ]
  },
  {
   "cell_type": "code",
   "execution_count": 76,
   "id": "55f6ab6c-0c27-46d2-8136-e062f25a5b0c",
   "metadata": {},
   "outputs": [],
   "source": [
    "request_2015_TE = pd.read_html(\"https://www.fantasypros.com/nfl/stats/te.php?year=2015&scoring=PPR&range=full\")\n",
    "df_TE_2015 = request_2015_TE[0]\n",
    "df_TE_2015.to_csv('TE_data_2015.csv')"
   ]
  },
  {
   "cell_type": "code",
   "execution_count": 77,
   "id": "ed7161a6-ed07-4490-8331-e3e5eb6ab5ab",
   "metadata": {},
   "outputs": [],
   "source": [
    "request_2016_TE = pd.read_html(\"https://www.fantasypros.com/nfl/stats/te.php?year=2016&scoring=PPR&range=full\")\n",
    "df_TE_2016 = request_2016_TE[0]\n",
    "df_TE_2016.to_csv('TE_data_2016.csv')"
   ]
  },
  {
   "cell_type": "code",
   "execution_count": 78,
   "id": "a78825dd-c7f1-4600-bbc4-dc6bfd5ef2f5",
   "metadata": {},
   "outputs": [],
   "source": [
    "request_2017_TE = pd.read_html(\"https://www.fantasypros.com/nfl/stats/te.php?year=2017&scoring=PPR&range=full\")\n",
    "df_TE_2017 = request_2017_TE[0]\n",
    "df_TE_2017.to_csv('TE_data_2017.csv')"
   ]
  },
  {
   "cell_type": "code",
   "execution_count": 79,
   "id": "d26f215a-3b0b-4d54-8148-c9e302210dbf",
   "metadata": {},
   "outputs": [],
   "source": [
    "request_2018_TE = pd.read_html(\"https://www.fantasypros.com/nfl/stats/te.php?year=2018&scoring=PPR&range=full\")\n",
    "df_TE_2018 = request_2018_TE[0]\n",
    "df_TE_2018.to_csv('TE_data_2018.csv')"
   ]
  },
  {
   "cell_type": "code",
   "execution_count": 80,
   "id": "311946c3-e88c-4ede-9578-f3c024deb66e",
   "metadata": {},
   "outputs": [],
   "source": [
    "request_2019_TE = pd.read_html(\"https://www.fantasypros.com/nfl/stats/te.php?year=2019&scoring=PPR&range=full\")\n",
    "df_TE_2019 = request_2019_TE[0]\n",
    "df_TE_2019.to_csv('TE_data_2019.csv')"
   ]
  },
  {
   "cell_type": "code",
   "execution_count": 81,
   "id": "dfc01ca9-6343-436b-b65e-fbaa0350a696",
   "metadata": {},
   "outputs": [],
   "source": [
    "request_2020_TE = pd.read_html(\"https://www.fantasypros.com/nfl/stats/te.php?year=2020&scoring=PPR&range=full\")\n",
    "df_TE_2020 = request_2020_TE[0]\n",
    "df_TE_2020.to_csv('TE_data_2020.csv')"
   ]
  },
  {
   "cell_type": "code",
   "execution_count": 82,
   "id": "5970ac4e-f9b5-4c0f-8382-e690a81f4bf2",
   "metadata": {},
   "outputs": [],
   "source": [
    "request_2021_TE = pd.read_html(\"https://www.fantasypros.com/nfl/stats/te.php?year=2021&scoring=PPR&range=full\")\n",
    "df_TE_2021 = request_2021_TE[0]\n",
    "df_TE_2021.to_csv('TE_data_2021.csv')"
   ]
  },
  {
   "cell_type": "markdown",
   "id": "668737fe-e6ca-46f2-93b5-468e4ad7ce35",
   "metadata": {},
   "source": [
    "## STATS PATEADORES 2011 A 2021\n"
   ]
  },
  {
   "cell_type": "code",
   "execution_count": 85,
   "id": "e34ac74b-9b65-45b5-8730-60a2daba72a2",
   "metadata": {},
   "outputs": [],
   "source": [
    "request_2011_K = pd.read_html(\"https://www.fantasypros.com/nfl/stats/k.php?year=2011&scoring=PPR&range=full\")\n",
    "df_K_2011 = request_2011_K[0]\n",
    "df_K_2011.to_csv('K_data_2011.csv')"
   ]
  },
  {
   "cell_type": "code",
   "execution_count": 87,
   "id": "d7fc9bcc-f1d0-4dc1-a402-3a0bcde226ca",
   "metadata": {},
   "outputs": [],
   "source": [
    "request_2012_K = pd.read_html(\"https://www.fantasypros.com/nfl/stats/k.php?year=2012&scoring=PPR&range=full\")\n",
    "df_K_2012 = request_2012_K[0]\n",
    "df_K_2012.to_csv('K_data_2012.csv')"
   ]
  },
  {
   "cell_type": "code",
   "execution_count": 88,
   "id": "54ca2334-4cad-4222-93ca-dc5ec74b9f0b",
   "metadata": {},
   "outputs": [],
   "source": [
    "request_2013_K = pd.read_html(\"https://www.fantasypros.com/nfl/stats/k.php?year=2013&scoring=PPR&range=full\")\n",
    "df_K_2013 = request_2013_K[0]\n",
    "df_K_2013.to_csv('K_data_2013.csv')"
   ]
  },
  {
   "cell_type": "code",
   "execution_count": 89,
   "id": "79569eff-911c-4770-85d0-9c0c110e40db",
   "metadata": {},
   "outputs": [],
   "source": [
    "request_2014_K = pd.read_html(\"https://www.fantasypros.com/nfl/stats/k.php?year=2014&scoring=PPR&range=full\")\n",
    "df_K_2014 = request_2014_K[0]\n",
    "df_K_2014.to_csv('K_data_2014.csv')"
   ]
  },
  {
   "cell_type": "code",
   "execution_count": 90,
   "id": "c82e259c-055f-488a-9e19-55622d8ac051",
   "metadata": {},
   "outputs": [],
   "source": [
    "request_2015_K = pd.read_html(\"https://www.fantasypros.com/nfl/stats/k.php?year=2015&scoring=PPR&range=full\")\n",
    "df_K_2015 = request_2015_K[0]\n",
    "df_K_2015.to_csv('K_data_2015.csv')"
   ]
  },
  {
   "cell_type": "code",
   "execution_count": 91,
   "id": "853dc914-7377-499e-9931-fe037c74707f",
   "metadata": {},
   "outputs": [],
   "source": [
    "request_2016_K = pd.read_html(\"https://www.fantasypros.com/nfl/stats/k.php?year=2016&scoring=PPR&range=full\")\n",
    "df_K_2016 = request_2016_K[0]\n",
    "df_K_2016.to_csv('K_data_2016.csv')"
   ]
  },
  {
   "cell_type": "code",
   "execution_count": 92,
   "id": "ce2126ed-3c6c-4875-a529-106208b0d8af",
   "metadata": {},
   "outputs": [],
   "source": [
    "request_2017_K = pd.read_html(\"https://www.fantasypros.com/nfl/stats/k.php?year=2017&scoring=PPR&range=full\")\n",
    "df_K_2017 = request_2017_K[0]\n",
    "df_K_2017.to_csv('K_data_2017.csv')"
   ]
  },
  {
   "cell_type": "code",
   "execution_count": 93,
   "id": "35cc9c24-4102-4813-89f7-5cd6994d9a08",
   "metadata": {},
   "outputs": [],
   "source": [
    "request_2018_K = pd.read_html(\"https://www.fantasypros.com/nfl/stats/k.php?year=2018&scoring=PPR&range=full\")\n",
    "df_K_2018 = request_2018_K[0]\n",
    "df_K_2018.to_csv('K_data_2018.csv')"
   ]
  },
  {
   "cell_type": "code",
   "execution_count": 96,
   "id": "f97c070a-11fc-4e37-8171-d60868976427",
   "metadata": {},
   "outputs": [],
   "source": [
    "request_2019_K = pd.read_html(\"https://www.fantasypros.com/nfl/stats/k.php?year=2019&scoring=PPR&range=full\")\n",
    "df_K_2019 = request_2019_K[0]\n",
    "df_K_2019.to_csv('K_data_2019.csv')"
   ]
  },
  {
   "cell_type": "code",
   "execution_count": 97,
   "id": "1beaf38f-7f45-4d7f-82c4-a267ee0a7a35",
   "metadata": {},
   "outputs": [],
   "source": [
    "request_2020_K = pd.read_html(\"https://www.fantasypros.com/nfl/stats/k.php?year=2020&scoring=PPR&range=full\")\n",
    "df_K_2020 = request_2020_K[0]\n",
    "df_K_2020.to_csv('K_data_2020.csv')"
   ]
  },
  {
   "cell_type": "code",
   "execution_count": 98,
   "id": "05b355af-2e16-4250-8bf2-bc320a3b2408",
   "metadata": {},
   "outputs": [],
   "source": [
    "request_2021_K = pd.read_html(\"https://www.fantasypros.com/nfl/stats/k.php?year=2021&scoring=PPR&range=full\")\n",
    "df_K_2021 = request_2021_K[0]\n",
    "df_K_2021.to_csv('K_data_2021.csv')"
   ]
  },
  {
   "cell_type": "markdown",
   "id": "c434e32b-153c-43b4-9dde-997d701c52d9",
   "metadata": {},
   "source": [
    "## STATS DEFENSAS 2011 A 2021\n"
   ]
  },
  {
   "cell_type": "code",
   "execution_count": 100,
   "id": "da773f1d-5947-4ec3-86a3-bc0aa7405227",
   "metadata": {},
   "outputs": [],
   "source": [
    "request_2011_DST = pd.read_html(\"https://www.fantasypros.com/nfl/stats/dst.php?year=2011&scoring=PPR&range=full\")\n",
    "df_DST_2011 = request_2011_DST[0]\n",
    "df_DST_2011.to_csv('DST_data_2011.csv')"
   ]
  },
  {
   "cell_type": "code",
   "execution_count": 101,
   "id": "c18991a8-bc3f-4768-bc05-19757d2b6f09",
   "metadata": {},
   "outputs": [],
   "source": [
    "request_2012_DST = pd.read_html(\"https://www.fantasypros.com/nfl/stats/dst.php?year=2012&scoring=PPR&range=full\")\n",
    "df_DST_2012 = request_2012_DST[0]\n",
    "df_DST_2012.to_csv('DST_data_2012.csv')"
   ]
  },
  {
   "cell_type": "code",
   "execution_count": 102,
   "id": "664084f5-4363-4da8-bf01-a222baab553c",
   "metadata": {},
   "outputs": [],
   "source": [
    "request_2013_DST = pd.read_html(\"https://www.fantasypros.com/nfl/stats/dst.php?year=2013&scoring=PPR&range=full\")\n",
    "df_DST_2013 = request_2013_DST[0]\n",
    "df_DST_2013.to_csv('DST_data_2013.csv')"
   ]
  },
  {
   "cell_type": "code",
   "execution_count": 103,
   "id": "85ede574-33a5-4ec4-a1e5-5a53ffbb1e7c",
   "metadata": {},
   "outputs": [],
   "source": [
    "request_2014_DST = pd.read_html(\"https://www.fantasypros.com/nfl/stats/dst.php?year=2014&scoring=PPR&range=full\")\n",
    "df_DST_2014 = request_2014_DST[0]\n",
    "df_DST_2014.to_csv('DST_data_2014.csv')"
   ]
  },
  {
   "cell_type": "code",
   "execution_count": 104,
   "id": "ec185283-b401-497a-bff4-7cab37b86955",
   "metadata": {},
   "outputs": [],
   "source": [
    "request_2015_DST = pd.read_html(\"https://www.fantasypros.com/nfl/stats/dst.php?year=2015&scoring=PPR&range=full\")\n",
    "df_DST_2015 = request_2015_DST[0]\n",
    "df_DST_2015.to_csv('DST_data_2015.csv')"
   ]
  },
  {
   "cell_type": "code",
   "execution_count": 105,
   "id": "891f65b9-34a1-4e5b-9b8f-4212778a3be1",
   "metadata": {},
   "outputs": [],
   "source": [
    "request_2016_DST = pd.read_html(\"https://www.fantasypros.com/nfl/stats/dst.php?year=2016&scoring=PPR&range=full\")\n",
    "df_DST_2016 = request_2016_DST[0]\n",
    "df_DST_2016.to_csv('DST_data_2016.csv')"
   ]
  },
  {
   "cell_type": "code",
   "execution_count": 106,
   "id": "c4f5542a-91f2-4ced-b9e1-0748813bb6f0",
   "metadata": {},
   "outputs": [],
   "source": [
    "request_2017_DST = pd.read_html(\"https://www.fantasypros.com/nfl/stats/dst.php?year=2017&scoring=PPR&range=full\")\n",
    "df_DST_2017 = request_2017_DST[0]\n",
    "df_DST_2017.to_csv('DST_data_2017.csv')"
   ]
  },
  {
   "cell_type": "code",
   "execution_count": 107,
   "id": "6da2e50b-3ab7-422d-bd72-f8791d79f735",
   "metadata": {},
   "outputs": [],
   "source": [
    "request_2018_DST = pd.read_html(\"https://www.fantasypros.com/nfl/stats/dst.php?year=2018&scoring=PPR&range=full\")\n",
    "df_DST_2018 = request_2018_DST[0]\n",
    "df_DST_2018.to_csv('DST_data_2018.csv')"
   ]
  },
  {
   "cell_type": "code",
   "execution_count": 108,
   "id": "94f19506-edfc-45c5-923a-b38990956863",
   "metadata": {},
   "outputs": [],
   "source": [
    "request_2019_DST = pd.read_html(\"https://www.fantasypros.com/nfl/stats/dst.php?year=2019&scoring=PPR&range=full\")\n",
    "df_DST_2019 = request_2019_DST[0]\n",
    "df_DST_2019.to_csv('DST_data_2019.csv')"
   ]
  },
  {
   "cell_type": "code",
   "execution_count": 109,
   "id": "79f76f2a-519b-4af9-a7fe-14a77ff10e3d",
   "metadata": {},
   "outputs": [],
   "source": [
    "request_2020_DST = pd.read_html(\"https://www.fantasypros.com/nfl/stats/dst.php?year=2020&scoring=PPR&range=full\")\n",
    "df_DST_2020 = request_2020_DST[0]\n",
    "df_DST_2020.to_csv('DST_data_2020.csv')"
   ]
  },
  {
   "cell_type": "code",
   "execution_count": 110,
   "id": "a5248306-1331-400c-952f-595ea5458e0c",
   "metadata": {},
   "outputs": [],
   "source": [
    "request_2021_DST = pd.read_html(\"https://www.fantasypros.com/nfl/stats/dst.php?year=2021&scoring=PPR&range=full\")\n",
    "df_DST_2021 = request_2021_DST[0]\n",
    "df_DST_2021.to_csv('DST_data_2021.csv')"
   ]
  },
  {
   "cell_type": "code",
   "execution_count": null,
   "id": "f9a31e23-76bb-4e96-9a57-294cd60c0c7c",
   "metadata": {},
   "outputs": [],
   "source": []
  }
 ],
 "metadata": {
  "kernelspec": {
   "display_name": "Python 3",
   "language": "python",
   "name": "python3"
  },
  "language_info": {
   "codemirror_mode": {
    "name": "ipython",
    "version": 3
   },
   "file_extension": ".py",
   "mimetype": "text/x-python",
   "name": "python",
   "nbconvert_exporter": "python",
   "pygments_lexer": "ipython3",
   "version": "3.8.8"
  }
 },
 "nbformat": 4,
 "nbformat_minor": 5
}
